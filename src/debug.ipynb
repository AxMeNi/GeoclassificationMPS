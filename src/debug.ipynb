{
 "cells": [
  {
   "cell_type": "code",
   "execution_count": null,
   "id": "a08a5991",
   "metadata": {},
   "outputs": [],
   "source": [
    "from interface import *"
   ]
  },
  {
   "cell_type": "code",
   "execution_count": null,
   "id": "72a9b6be",
   "metadata": {},
   "outputs": [],
   "source": [
    "verbose=True\n",
    "arg_seed=123\n",
    "arg_n_ti=1\n",
    "arg_ti_pct_area=90\n",
    "arg_num_shape=15\n",
    "arg_aux_vars=[\"grid_lmp\",\"grid_grv\",\"grid_mag\"]\n",
    "arg_output_dir=\"./output/tmp\""
   ]
  },
  {
   "cell_type": "code",
   "execution_count": null,
   "id": "6b3102b3",
   "metadata": {},
   "outputs": [],
   "source": [
    "params, \\\n",
    "shorten, \\\n",
    "nvar, sim_var, auxTI_var, auxSG_var, condIm_var, names_var, types_var, outputVarFlag, \\\n",
    "nr, nc = get_simulation_info(arg_seed, arg_n_ti, arg_ti_pct_area, arg_num_shape, arg_aux_vars, arg_output_dir)"
   ]
  }
 ],
 "metadata": {
  "kernelspec": {
   "display_name": "PythonEnvGeoclassifMPS",
   "language": "python",
   "name": "python3"
  },
  "language_info": {
   "codemirror_mode": {
    "name": "ipython",
    "version": 3
   },
   "file_extension": ".py",
   "mimetype": "text/x-python",
   "name": "python",
   "nbconvert_exporter": "python",
   "pygments_lexer": "ipython3",
   "version": "3.9.19"
  }
 },
 "nbformat": 4,
 "nbformat_minor": 5
}
